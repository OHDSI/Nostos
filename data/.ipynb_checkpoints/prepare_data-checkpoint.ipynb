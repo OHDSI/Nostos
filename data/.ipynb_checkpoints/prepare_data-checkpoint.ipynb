{
 "cells": [
  {
   "cell_type": "markdown",
   "metadata": {},
   "source": [
    "# Dataset Preparation"
   ]
  },
  {
   "cell_type": "markdown",
   "metadata": {},
   "source": [
    "The dataset included as part of this repo is not ready for model training and evaluation. Because it contains the folded equivalent questions for each dataset split. You will need to unfold the equivalent questions to make them ready for the model development. Please run this notebook to prepare the dataset. You can then use the output dataset for model development."
   ]
  },
  {
   "cell_type": "code",
   "execution_count": 1,
   "metadata": {},
   "outputs": [],
   "source": [
    "import os\n",
    "import pandas as pd\n",
    "import re"
   ]
  },
  {
   "cell_type": "code",
   "execution_count": 2,
   "metadata": {},
   "outputs": [],
   "source": [
    "def unfold_questions(df, column='folded_questions'):\n",
    "    \"\"\"\n",
    "    Unfold all the folded equivalent questions in the given dataframe.\n",
    "    Args:\n",
    "        df(pd.DataFrame): Dataframe where it contains the data with folded questions.\n",
    "    \n",
    "    Returns:\n",
    "        Dataframe with unfolded questions added.\n",
    "    \"\"\"\n",
    "    \n",
    "    def get_sentences_replacing_one_arg_with_options(sentence, match):\n",
    "        start, end = match.start(), match.end()\n",
    "        options = match.groups()[0].split(\"/\")\n",
    "        out_sentences = [sentence[:start] + option.strip() + sentence[end:] for option in options]\n",
    "        return out_sentences\n",
    "\n",
    "    \n",
    "    SYN_ARG_P = re.compile(\"<SYN-ARG-(.*?)>\")\n",
    "    initial_columns = df.columns\n",
    "    line_dfs = []\n",
    "\n",
    "    # generate expanded dfs by row\n",
    "    for _, row in df.iterrows():\n",
    "\n",
    "        todo_sentences = [row[column]]\n",
    "        out_sentences = []\n",
    "\n",
    "        while len(todo_sentences)>0:\n",
    "            next_sentence = todo_sentences.pop(0)\n",
    "            \n",
    "            args = list(re.finditer(SYN_ARG_P, next_sentence))\n",
    "            if args:\n",
    "                first_arg = args[0]\n",
    "                option_sentences = get_sentences_replacing_one_arg_with_options(next_sentence, first_arg)\n",
    "                todo_sentences.extend(option_sentences)\n",
    "            else:\n",
    "                out_sentences.append(next_sentence)\n",
    "\n",
    "        # creat & append row dataframe\n",
    "        row_df = pd.DataFrame({'unfolded_questions': out_sentences})\n",
    "        for c in initial_columns: row_df[c] = row[c]\n",
    "        line_dfs.append(row_df)\n",
    "\n",
    "    # agg\n",
    "    out_df = pd.concat(line_dfs, axis=0).reset_index(drop=True)\n",
    "    return out_df"
   ]
  },
  {
   "cell_type": "code",
   "execution_count": 4,
   "metadata": {},
   "outputs": [],
   "source": [
    "## Constants\n",
    "DATA_DIR = './folded_questions/'\n",
    "OUTPUT_DIR = './unfolded_questions/'\n",
    "\n",
    "TRAIN_PATH = os.path.join(DATA_DIR, 'train.csv')\n",
    "VAL_PATH = os.path.join(DATA_DIR, 'validation.csv')\n",
    "TEST_PATH = os.path.join(DATA_DIR, 'test.csv')\n",
    "\n",
    "OUT_TRAIN_PATH = os.path.join(OUTPUT_DIR, 'train.csv')\n",
    "OUT_VAL_PATH = os.path.join(OUTPUT_DIR, 'validation.csv')\n",
    "OUT_TEST_PATH = os.path.join(OUTPUT_DIR, 'test.csv')"
   ]
  },
  {
   "cell_type": "code",
   "execution_count": 5,
   "metadata": {},
   "outputs": [
    {
     "name": "stdout",
     "output_type": "stream",
     "text": [
      "Total Base Questions:\n",
      "Train: 56, Val: 56, Test: 56\n",
      "\n",
      "Total Folded Equivalent Questions:\n",
      "Train: 533, Val: 125, Test: 131, Total: 789\n"
     ]
    },
    {
     "data": {
      "text/html": [
       "<div>\n",
       "<style scoped>\n",
       "    .dataframe tbody tr th:only-of-type {\n",
       "        vertical-align: middle;\n",
       "    }\n",
       "\n",
       "    .dataframe tbody tr th {\n",
       "        vertical-align: top;\n",
       "    }\n",
       "\n",
       "    .dataframe thead th {\n",
       "        text-align: right;\n",
       "    }\n",
       "</style>\n",
       "<table border=\"1\" class=\"dataframe\">\n",
       "  <thead>\n",
       "    <tr style=\"text-align: right;\">\n",
       "      <th></th>\n",
       "      <th>base_question</th>\n",
       "      <th>folded_questions</th>\n",
       "      <th>query</th>\n",
       "    </tr>\n",
       "  </thead>\n",
       "  <tbody>\n",
       "    <tr>\n",
       "      <th>0</th>\n",
       "      <td>Count of patients grouped by race.</td>\n",
       "      <td>&lt;SYN-ARG-number/count/counts&gt; of &lt;SYN-ARG-pati...</td>\n",
       "      <td>SELECT race, COUNT(DISTINCT pe1.person_id) AS ...</td>\n",
       "    </tr>\n",
       "    <tr>\n",
       "      <th>1</th>\n",
       "      <td>Count of patients grouped by race.</td>\n",
       "      <td>&lt;SYN-ARG-calculate/what's/what is/tell me&gt; the...</td>\n",
       "      <td>SELECT race, COUNT(DISTINCT pe1.person_id) AS ...</td>\n",
       "    </tr>\n",
       "    <tr>\n",
       "      <th>2</th>\n",
       "      <td>Counts of patients taking drug &lt;ARG-DRUG&gt;&lt;0&gt; a...</td>\n",
       "      <td>&lt;SYN-ARG-calculate/what's/what is/tell me&gt; the...</td>\n",
       "      <td>SELECT COUNT( DISTINCT a.person_id ) FROM ((SE...</td>\n",
       "    </tr>\n",
       "    <tr>\n",
       "      <th>3</th>\n",
       "      <td>Counts of patients taking drug &lt;ARG-DRUG&gt;&lt;0&gt; a...</td>\n",
       "      <td>How many &lt;SYN-ARG-patients/people/persons/indi...</td>\n",
       "      <td>SELECT COUNT( DISTINCT a.person_id ) FROM ((SE...</td>\n",
       "    </tr>\n",
       "    <tr>\n",
       "      <th>4</th>\n",
       "      <td>Counts of patients taking drug &lt;ARG-DRUG&gt;&lt;0&gt; a...</td>\n",
       "      <td>&lt;SYN-ARG-calculate/what's/what is/tell me&gt; the...</td>\n",
       "      <td>SELECT COUNT( DISTINCT a.person_id ) FROM ((SE...</td>\n",
       "    </tr>\n",
       "  </tbody>\n",
       "</table>\n",
       "</div>"
      ],
      "text/plain": [
       "                                       base_question  \\\n",
       "0                 Count of patients grouped by race.   \n",
       "1                 Count of patients grouped by race.   \n",
       "2  Counts of patients taking drug <ARG-DRUG><0> a...   \n",
       "3  Counts of patients taking drug <ARG-DRUG><0> a...   \n",
       "4  Counts of patients taking drug <ARG-DRUG><0> a...   \n",
       "\n",
       "                                    folded_questions  \\\n",
       "0  <SYN-ARG-number/count/counts> of <SYN-ARG-pati...   \n",
       "1  <SYN-ARG-calculate/what's/what is/tell me> the...   \n",
       "2  <SYN-ARG-calculate/what's/what is/tell me> the...   \n",
       "3  How many <SYN-ARG-patients/people/persons/indi...   \n",
       "4  <SYN-ARG-calculate/what's/what is/tell me> the...   \n",
       "\n",
       "                                               query  \n",
       "0  SELECT race, COUNT(DISTINCT pe1.person_id) AS ...  \n",
       "1  SELECT race, COUNT(DISTINCT pe1.person_id) AS ...  \n",
       "2  SELECT COUNT( DISTINCT a.person_id ) FROM ((SE...  \n",
       "3  SELECT COUNT( DISTINCT a.person_id ) FROM ((SE...  \n",
       "4  SELECT COUNT( DISTINCT a.person_id ) FROM ((SE...  "
      ]
     },
     "execution_count": 5,
     "metadata": {},
     "output_type": "execute_result"
    }
   ],
   "source": [
    "## Read Input Data\n",
    "\n",
    "df_train = pd.read_csv(TRAIN_PATH)\n",
    "df_val = pd.read_csv(VAL_PATH)\n",
    "df_test = pd.read_csv(TEST_PATH)\n",
    "\n",
    "#Total base questions (the same base questions are located in all dataset splits)\n",
    "print('Total Base Questions:')\n",
    "print(f'Train: {df_train.base_question.nunique()}, Val: {df_val.base_question.nunique()}, Test: {df_test.base_question.nunique()}\\n')\n",
    "\n",
    "total = df_train.shape[0] + df_val.shape[0] + df_test.shape[0]\n",
    "print('Total Folded Equivalent Questions:')\n",
    "print(f'Train: {df_train.shape[0]}, Val: {df_val.shape[0]}, Test: {df_test.shape[0]}, Total: {total}')\n",
    "df_test.head()"
   ]
  },
  {
   "cell_type": "code",
   "execution_count": 6,
   "metadata": {},
   "outputs": [
    {
     "name": "stdout",
     "output_type": "stream",
     "text": [
      "Unfolding Questions...\n",
      "[SUCCESS]\n"
     ]
    }
   ],
   "source": [
    "## Unfold the questions for each split\n",
    "print('Unfolding Questions...')\n",
    "df_train = unfold_questions(df_train)\n",
    "df_val = unfold_questions(df_val)\n",
    "df_test = unfold_questions(df_test)\n",
    "print('[SUCCESS]')"
   ]
  },
  {
   "cell_type": "code",
   "execution_count": 8,
   "metadata": {},
   "outputs": [
    {
     "name": "stdout",
     "output_type": "stream",
     "text": [
      "Total Unfolded Equivalent Questions:\n",
      "Train: 596961, Val: 145368, Test: 56931, Total: 799260\n"
     ]
    },
    {
     "data": {
      "text/html": [
       "<div>\n",
       "<style scoped>\n",
       "    .dataframe tbody tr th:only-of-type {\n",
       "        vertical-align: middle;\n",
       "    }\n",
       "\n",
       "    .dataframe tbody tr th {\n",
       "        vertical-align: top;\n",
       "    }\n",
       "\n",
       "    .dataframe thead th {\n",
       "        text-align: right;\n",
       "    }\n",
       "</style>\n",
       "<table border=\"1\" class=\"dataframe\">\n",
       "  <thead>\n",
       "    <tr style=\"text-align: right;\">\n",
       "      <th></th>\n",
       "      <th>unfolded_questions</th>\n",
       "      <th>base_question</th>\n",
       "      <th>folded_questions</th>\n",
       "      <th>query</th>\n",
       "    </tr>\n",
       "  </thead>\n",
       "  <tbody>\n",
       "    <tr>\n",
       "      <th>0</th>\n",
       "      <td>number of patients in each race group.</td>\n",
       "      <td>Count of patients grouped by race.</td>\n",
       "      <td>&lt;SYN-ARG-number/count/counts&gt; of &lt;SYN-ARG-pati...</td>\n",
       "      <td>SELECT race, COUNT(DISTINCT pe1.person_id) AS ...</td>\n",
       "    </tr>\n",
       "    <tr>\n",
       "      <th>1</th>\n",
       "      <td>number of patients for each race group.</td>\n",
       "      <td>Count of patients grouped by race.</td>\n",
       "      <td>&lt;SYN-ARG-number/count/counts&gt; of &lt;SYN-ARG-pati...</td>\n",
       "      <td>SELECT race, COUNT(DISTINCT pe1.person_id) AS ...</td>\n",
       "    </tr>\n",
       "    <tr>\n",
       "      <th>2</th>\n",
       "      <td>number of people in each race group.</td>\n",
       "      <td>Count of patients grouped by race.</td>\n",
       "      <td>&lt;SYN-ARG-number/count/counts&gt; of &lt;SYN-ARG-pati...</td>\n",
       "      <td>SELECT race, COUNT(DISTINCT pe1.person_id) AS ...</td>\n",
       "    </tr>\n",
       "    <tr>\n",
       "      <th>3</th>\n",
       "      <td>number of people for each race group.</td>\n",
       "      <td>Count of patients grouped by race.</td>\n",
       "      <td>&lt;SYN-ARG-number/count/counts&gt; of &lt;SYN-ARG-pati...</td>\n",
       "      <td>SELECT race, COUNT(DISTINCT pe1.person_id) AS ...</td>\n",
       "    </tr>\n",
       "    <tr>\n",
       "      <th>4</th>\n",
       "      <td>number of persons in each race group.</td>\n",
       "      <td>Count of patients grouped by race.</td>\n",
       "      <td>&lt;SYN-ARG-number/count/counts&gt; of &lt;SYN-ARG-pati...</td>\n",
       "      <td>SELECT race, COUNT(DISTINCT pe1.person_id) AS ...</td>\n",
       "    </tr>\n",
       "  </tbody>\n",
       "</table>\n",
       "</div>"
      ],
      "text/plain": [
       "                        unfolded_questions  \\\n",
       "0   number of patients in each race group.   \n",
       "1  number of patients for each race group.   \n",
       "2     number of people in each race group.   \n",
       "3    number of people for each race group.   \n",
       "4    number of persons in each race group.   \n",
       "\n",
       "                        base_question  \\\n",
       "0  Count of patients grouped by race.   \n",
       "1  Count of patients grouped by race.   \n",
       "2  Count of patients grouped by race.   \n",
       "3  Count of patients grouped by race.   \n",
       "4  Count of patients grouped by race.   \n",
       "\n",
       "                                    folded_questions  \\\n",
       "0  <SYN-ARG-number/count/counts> of <SYN-ARG-pati...   \n",
       "1  <SYN-ARG-number/count/counts> of <SYN-ARG-pati...   \n",
       "2  <SYN-ARG-number/count/counts> of <SYN-ARG-pati...   \n",
       "3  <SYN-ARG-number/count/counts> of <SYN-ARG-pati...   \n",
       "4  <SYN-ARG-number/count/counts> of <SYN-ARG-pati...   \n",
       "\n",
       "                                               query  \n",
       "0  SELECT race, COUNT(DISTINCT pe1.person_id) AS ...  \n",
       "1  SELECT race, COUNT(DISTINCT pe1.person_id) AS ...  \n",
       "2  SELECT race, COUNT(DISTINCT pe1.person_id) AS ...  \n",
       "3  SELECT race, COUNT(DISTINCT pe1.person_id) AS ...  \n",
       "4  SELECT race, COUNT(DISTINCT pe1.person_id) AS ...  "
      ]
     },
     "execution_count": 8,
     "metadata": {},
     "output_type": "execute_result"
    }
   ],
   "source": [
    "#Total Dataset Sizes after Unfolding\n",
    "total = df_train.shape[0] + df_val.shape[0] + df_test.shape[0]\n",
    "print('Total Unfolded Equivalent Questions:')\n",
    "print(f'Train: {df_train.shape[0]}, Val: {df_val.shape[0]}, Test: {df_test.shape[0]}, Total: {total}')\n",
    "df_test.head()"
   ]
  },
  {
   "cell_type": "code",
   "execution_count": 9,
   "metadata": {},
   "outputs": [],
   "source": [
    "## Save the Output Data\n",
    "\n",
    "os.makedirs(OUTPUT_DIR, exist_ok=True)\n",
    "\n",
    "df_train.to_csv(OUT_TRAIN_PATH, index=False)\n",
    "df_val.to_csv(OUT_VAL_PATH, index=False)\n",
    "df_test.to_csv(OUT_TEST_PATH, index=False)"
   ]
  },
  {
   "cell_type": "code",
   "execution_count": null,
   "metadata": {},
   "outputs": [],
   "source": []
  }
 ],
 "metadata": {
  "kernelspec": {
   "display_name": ".conda-pytorch",
   "language": "python",
   "name": "conda-env-.conda-pytorch-py"
  },
  "language_info": {
   "codemirror_mode": {
    "name": "ipython",
    "version": 3
   },
   "file_extension": ".py",
   "mimetype": "text/x-python",
   "name": "python",
   "nbconvert_exporter": "python",
   "pygments_lexer": "ipython3",
   "version": "3.7.7"
  }
 },
 "nbformat": 4,
 "nbformat_minor": 5
}
